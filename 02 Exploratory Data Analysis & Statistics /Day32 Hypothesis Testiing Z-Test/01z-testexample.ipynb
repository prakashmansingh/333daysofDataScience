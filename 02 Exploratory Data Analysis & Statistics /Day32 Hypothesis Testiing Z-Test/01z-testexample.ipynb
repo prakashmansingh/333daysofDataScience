{
 "cells": [
  {
   "cell_type": "code",
   "execution_count": 13,
   "metadata": {},
   "outputs": [],
   "source": [
    "import numpy as np\n",
    "from scipy import stats\n",
    "\n",
    "# Define the parameters from the business problem\n",
    "sample_mean = 52\n",
    "population_mean = 50\n",
    "population_std = 10\n",
    "sample_size = 400"
   ]
  },
  {
   "cell_type": "markdown",
   "metadata": {},
   "source": [
    " Calculate the Z-score"
   ]
  },
  {
   "cell_type": "code",
   "execution_count": 14,
   "metadata": {},
   "outputs": [
    {
     "name": "stdout",
     "output_type": "stream",
     "text": [
      "Calculated Z-score: 4.0\n"
     ]
    }
   ],
   "source": [
    "\n",
    "std_error = population_std / np.sqrt(sample_size)\n",
    "z_score = (sample_mean - population_mean) / std_error\n",
    "\n",
    "print(f\"Calculated Z-score: {z_score}\")"
   ]
  },
  {
   "cell_type": "markdown",
   "metadata": {},
   "source": [
    "Calculate the P-value"
   ]
  },
  {
   "cell_type": "code",
   "execution_count": 15,
   "metadata": {},
   "outputs": [
    {
     "name": "stdout",
     "output_type": "stream",
     "text": [
      "Calculated p-value: 6.334248366623973e-05\n"
     ]
    }
   ],
   "source": [
    "p_value = stats.norm.sf(abs(z_score)) * 2\n",
    "\n",
    "print(f\"Calculated p-value: {p_value}\")"
   ]
  },
  {
   "cell_type": "markdown",
   "metadata": {},
   "source": [
    "Interpret the Results\n"
   ]
  },
  {
   "cell_type": "code",
   "execution_count": 16,
   "metadata": {},
   "outputs": [
    {
     "name": "stdout",
     "output_type": "stream",
     "text": [
      "\n",
      "Conclusion: The p-value is less than 0.05. We reject the null hypothesis.\n",
      "There is a statistically significant difference in the average order value.\n"
     ]
    }
   ],
   "source": [
    "# Set the significance level\n",
    "alpha = 0.05\n",
    "\n",
    "# Compare p-value to alpha and print the conclusion\n",
    "if p_value < alpha:\n",
    "    print(\"\\nConclusion: The p-value is less than 0.05. We reject the null hypothesis.\")\n",
    "    print(\"There is a statistically significant difference in the average order value.\")\n",
    "else:\n",
    "    print(\"\\nConclusion: The p-value is not less than 0.05. We fail to reject the null hypothesis.\")\n",
    "    print(\"There is no statistically significant difference in the average order value.\")"
   ]
  }
 ],
 "metadata": {
  "kernelspec": {
   "display_name": "Python 3",
   "language": "python",
   "name": "python3"
  },
  "language_info": {
   "codemirror_mode": {
    "name": "ipython",
    "version": 3
   },
   "file_extension": ".py",
   "mimetype": "text/x-python",
   "name": "python",
   "nbconvert_exporter": "python",
   "pygments_lexer": "ipython3",
   "version": "3.12.6"
  }
 },
 "nbformat": 4,
 "nbformat_minor": 2
}
