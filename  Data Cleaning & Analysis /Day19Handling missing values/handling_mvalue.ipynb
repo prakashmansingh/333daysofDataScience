{
 "cells": [
  {
   "cell_type": "code",
   "execution_count": 49,
   "metadata": {},
   "outputs": [
    {
     "name": "stdout",
     "output_type": "stream",
     "text": [
      "   Name   Age   Salary\n",
      "0   Ram  25.0  40000.0\n",
      "3  Gita  22.0  50000.0\n",
      "4  Ravi  28.0  48000.0\n"
     ]
    }
   ],
   "source": [
    "#dropping the\n",
    "import pandas as pd\n",
    "\n",
    "# Example dataset\n",
    "data = {'Name': ['Ram', 'Sita', 'Hari', 'Gita', 'Ravi'],\n",
    "        'Age': [25, None, 30, 22, 28],\n",
    "        'Salary': [40000, 45000, None, 50000, 48000]}\n",
    "\n",
    "df = pd.DataFrame(data)\n",
    "\n",
    "# Drop rows with missing values\n",
    "df_drop = df.dropna()\n",
    "\n",
    "print(df_drop)\n"
   ]
  },
  {
   "cell_type": "code",
   "execution_count": 50,
   "metadata": {},
   "outputs": [
    {
     "name": "stdout",
     "output_type": "stream",
     "text": [
      "   Name    Age   Salary\n",
      "0   Ram  25.00  40000.0\n",
      "1  Sita  26.25  45000.0\n",
      "2  Hari  30.00  45750.0\n",
      "3  Gita  22.00  50000.0\n",
      "4  Ravi  28.00  48000.0\n"
     ]
    },
    {
     "name": "stderr",
     "output_type": "stream",
     "text": [
      "/var/folders/k9/0ymr366x2c5c2hpzhnpzt0100000gn/T/ipykernel_6496/575191280.py:3: FutureWarning: A value is trying to be set on a copy of a DataFrame or Series through chained assignment using an inplace method.\n",
      "The behavior will change in pandas 3.0. This inplace method will never work because the intermediate object on which we are setting values always behaves as a copy.\n",
      "\n",
      "For example, when doing 'df[col].method(value, inplace=True)', try using 'df.method({col: value}, inplace=True)' or df[col] = df[col].method(value) instead, to perform the operation inplace on the original object.\n",
      "\n",
      "\n",
      "  df['Age'].fillna(df['Age'].mean(), inplace=True)\n",
      "/var/folders/k9/0ymr366x2c5c2hpzhnpzt0100000gn/T/ipykernel_6496/575191280.py:4: FutureWarning: A value is trying to be set on a copy of a DataFrame or Series through chained assignment using an inplace method.\n",
      "The behavior will change in pandas 3.0. This inplace method will never work because the intermediate object on which we are setting values always behaves as a copy.\n",
      "\n",
      "For example, when doing 'df[col].method(value, inplace=True)', try using 'df.method({col: value}, inplace=True)' or df[col] = df[col].method(value) instead, to perform the operation inplace on the original object.\n",
      "\n",
      "\n",
      "  df['Salary'].fillna(df['Salary'].mean(), inplace=True)\n"
     ]
    }
   ],
   "source": [
    "#imputation (filling the missing values )\n",
    "\n",
    "df['Age'].fillna(df['Age'].mean(), inplace=True)\n",
    "df['Salary'].fillna(df['Salary'].mean(), inplace=True)\n",
    "\n",
    "print(df)"
   ]
  },
  {
   "cell_type": "code",
   "execution_count": 51,
   "metadata": {},
   "outputs": [
    {
     "name": "stdout",
     "output_type": "stream",
     "text": [
      "   day  temperature\n",
      "0    1         20.0\n",
      "1    2         21.0\n",
      "2    3         22.0\n",
      "3    4         23.0\n",
      "4    5         23.0\n"
     ]
    }
   ],
   "source": [
    "#interpolution (smart guessing the missing value )\n",
    "\n",
    "import pandas as pd \n",
    "\n",
    "data = {'day' : [1, 2, 3, 4, 5],\n",
    "        'temperature': [20, 21, None, 23, None]}\n",
    "\n",
    "df = pd.DataFrame(data)\n",
    "\n",
    "df['temperature'] = df['temperature'].interpolate()\n",
    "\n",
    "print(df)"
   ]
  },
  {
   "cell_type": "code",
   "execution_count": 52,
   "metadata": {},
   "outputs": [
    {
     "name": "stdout",
     "output_type": "stream",
     "text": [
      "   day  temperature\n",
      "0    1         20.0\n",
      "1    2         21.0\n",
      "2    3         22.0\n",
      "3    4         23.0\n",
      "4    5         23.0\n"
     ]
    },
    {
     "name": "stderr",
     "output_type": "stream",
     "text": [
      "/var/folders/k9/0ymr366x2c5c2hpzhnpzt0100000gn/T/ipykernel_6496/3691496630.py:2: FutureWarning: DataFrame.fillna with 'method' is deprecated and will raise in a future version. Use obj.ffill() or obj.bfill() instead.\n",
      "  df_ffill = df.fillna(method=\"ffill\")\n"
     ]
    }
   ],
   "source": [
    "#forward fill \n",
    "df_ffill = df.fillna(method=\"ffill\")\n",
    "print(df_ffill)"
   ]
  },
  {
   "cell_type": "code",
   "execution_count": 53,
   "metadata": {},
   "outputs": [
    {
     "name": "stdout",
     "output_type": "stream",
     "text": [
      "   day  temperature\n",
      "0    1         20.0\n",
      "1    2         21.0\n",
      "2    3         22.0\n",
      "3    4         23.0\n",
      "4    5         23.0\n"
     ]
    },
    {
     "name": "stderr",
     "output_type": "stream",
     "text": [
      "/var/folders/k9/0ymr366x2c5c2hpzhnpzt0100000gn/T/ipykernel_6496/1844245949.py:2: FutureWarning: DataFrame.fillna with 'method' is deprecated and will raise in a future version. Use obj.ffill() or obj.bfill() instead.\n",
      "  df_bfill = df.fillna(method=\"bfill\")\n"
     ]
    }
   ],
   "source": [
    "#backward fill\n",
    "df_bfill = df.fillna(method=\"bfill\")\n",
    "print(df_bfill)"
   ]
  }
 ],
 "metadata": {
  "kernelspec": {
   "display_name": "Python 3",
   "language": "python",
   "name": "python3"
  },
  "language_info": {
   "codemirror_mode": {
    "name": "ipython",
    "version": 3
   },
   "file_extension": ".py",
   "mimetype": "text/x-python",
   "name": "python",
   "nbconvert_exporter": "python",
   "pygments_lexer": "ipython3",
   "version": "3.12.6"
  }
 },
 "nbformat": 4,
 "nbformat_minor": 2
}
