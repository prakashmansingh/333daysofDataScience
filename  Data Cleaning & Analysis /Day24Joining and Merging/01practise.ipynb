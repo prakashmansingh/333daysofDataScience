{
 "cells": [
  {
   "cell_type": "code",
   "execution_count": 13,
   "metadata": {},
   "outputs": [],
   "source": [
    "import pandas as pd\n",
    "\n",
    "\n",
    "\n",
    "students = pd.DataFrame({\n",
    "    'ID': [1,2,3],\n",
    "    'Name': ['Aarav', 'Sita', 'Maya']\n",
    "})\n",
    "\n",
    "marks = pd.DataFrame({\n",
    "    'ID': [1,2,4],\n",
    "    'Math': [85, 78, 92]\n",
    "})\n"
   ]
  },
  {
   "cell_type": "code",
   "execution_count": 14,
   "metadata": {},
   "outputs": [
    {
     "name": "stdout",
     "output_type": "stream",
     "text": [
      "Inner Join:    ID   Name  Math\n",
      "0   1  Aarav    85\n",
      "1   2   Sita    78\n"
     ]
    }
   ],
   "source": [
    "inner = pd.merge(students, marks, on='ID', how='inner')\n",
    "print(\"Inner Join:\", inner)\n"
   ]
  },
  {
   "cell_type": "code",
   "execution_count": 15,
   "metadata": {},
   "outputs": [
    {
     "name": "stdout",
     "output_type": "stream",
     "text": [
      "Left Join:    ID   Name  Math\n",
      "0   1  Aarav  85.0\n",
      "1   2   Sita  78.0\n",
      "2   3   Maya   NaN\n"
     ]
    }
   ],
   "source": [
    "left = pd.merge(students, marks, on='ID', how='left')\n",
    "print(\"Left Join:\", left)"
   ]
  },
  {
   "cell_type": "code",
   "execution_count": 16,
   "metadata": {},
   "outputs": [
    {
     "name": "stdout",
     "output_type": "stream",
     "text": [
      "Right Join:    ID   Name  Math\n",
      "0   1  Aarav    85\n",
      "1   2   Sita    78\n",
      "2   4    NaN    92\n"
     ]
    }
   ],
   "source": [
    "\n",
    "right = pd.merge(students, marks, on='ID', how='right')\n",
    "print(\"Right Join:\", right)\n"
   ]
  },
  {
   "cell_type": "code",
   "execution_count": 17,
   "metadata": {},
   "outputs": [
    {
     "name": "stdout",
     "output_type": "stream",
     "text": [
      "Outer Join:    ID   Name  Math\n",
      "0   1  Aarav  85.0\n",
      "1   2   Sita  78.0\n",
      "2   3   Maya   NaN\n",
      "3   4    NaN  92.0\n"
     ]
    }
   ],
   "source": [
    "outer = pd.merge(students, marks, on='ID', how='outer')\n",
    "print(\"Outer Join:\", outer)"
   ]
  }
 ],
 "metadata": {
  "kernelspec": {
   "display_name": "Python 3",
   "language": "python",
   "name": "python3"
  },
  "language_info": {
   "codemirror_mode": {
    "name": "ipython",
    "version": 3
   },
   "file_extension": ".py",
   "mimetype": "text/x-python",
   "name": "python",
   "nbconvert_exporter": "python",
   "pygments_lexer": "ipython3",
   "version": "3.12.6"
  }
 },
 "nbformat": 4,
 "nbformat_minor": 2
}
