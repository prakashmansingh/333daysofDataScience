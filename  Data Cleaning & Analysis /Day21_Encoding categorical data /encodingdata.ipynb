{
 "cells": [
  {
   "cell_type": "code",
   "execution_count": 22,
   "metadata": {},
   "outputs": [
    {
     "name": "stdout",
     "output_type": "stream",
     "text": [
      "Original DataFrame:\n",
      "   Country  Gender    Size\n",
      "0   Nepal    Male   Small\n",
      "1   India  Female  Medium\n",
      "2     USA  Female   Large\n",
      "3   Nepal    Male   Small\n",
      "4   India   Other  Medium\n"
     ]
    }
   ],
   "source": [
    "# Import libraries\n",
    "import pandas as pd\n",
    "from sklearn.preprocessing import LabelEncoder\n",
    "\n",
    "# Sample dataset\n",
    "data = {\n",
    "    'Country': ['Nepal', 'India', 'USA', 'Nepal', 'India'],\n",
    "    'Gender': ['Male', 'Female', 'Female', 'Male', 'Other'],\n",
    "    'Size': ['Small', 'Medium', 'Large', 'Small', 'Medium']\n",
    "}\n",
    "df = pd.DataFrame(data)\n",
    "print(\"Original DataFrame:\\n\", df)\n",
    "\n"
   ]
  },
  {
   "cell_type": "code",
   "execution_count": 23,
   "metadata": {},
   "outputs": [
    {
     "name": "stdout",
     "output_type": "stream",
     "text": [
      "\n",
      "After Label Encoding (Gender):\n",
      "   Country  Gender    Size  Gender_LabelEncoded\n",
      "0   Nepal    Male   Small                    1\n",
      "1   India  Female  Medium                    0\n",
      "2     USA  Female   Large                    0\n",
      "3   Nepal    Male   Small                    1\n",
      "4   India   Other  Medium                    2\n"
     ]
    }
   ],
   "source": [
    "#label encoding for 'Country'\n",
    "label_encoder = LabelEncoder()\n",
    "df['Gender_LabelEncoded'] = label_encoder.fit_transform(df['Gender'])\n",
    "print(\"\\nAfter Label Encoding (Gender):\\n\", df)\n"
   ]
  },
  {
   "cell_type": "code",
   "execution_count": 24,
   "metadata": {},
   "outputs": [
    {
     "name": "stdout",
     "output_type": "stream",
     "text": [
      "\n",
      "After One-Hot Encoding (Country):    Gender    Size  Gender_LabelEncoded  Country_India  Country_Nepal  \\\n",
      "0    Male   Small                    1          False           True   \n",
      "1  Female  Medium                    0           True          False   \n",
      "2  Female   Large                    0          False          False   \n",
      "3    Male   Small                    1          False           True   \n",
      "4   Other  Medium                    2           True          False   \n",
      "\n",
      "   Country_USA  \n",
      "0        False  \n",
      "1        False  \n",
      "2         True  \n",
      "3        False  \n",
      "4        False  \n"
     ]
    }
   ],
   "source": [
    "\n",
    "# One-hot encoding for 'Country'\n",
    "df_onehot = pd.get_dummies(df, columns=['Country'])\n",
    "print(\"\\nAfter One-Hot Encoding (Country):\\n\", df_onehot)\n"
   ]
  }
 ],
 "metadata": {
  "kernelspec": {
   "display_name": "Python 3",
   "language": "python",
   "name": "python3"
  },
  "language_info": {
   "codemirror_mode": {
    "name": "ipython",
    "version": 3
   },
   "file_extension": ".py",
   "mimetype": "text/x-python",
   "name": "python",
   "nbconvert_exporter": "python",
   "pygments_lexer": "ipython3",
   "version": "3.12.6"
  }
 },
 "nbformat": 4,
 "nbformat_minor": 2
}
