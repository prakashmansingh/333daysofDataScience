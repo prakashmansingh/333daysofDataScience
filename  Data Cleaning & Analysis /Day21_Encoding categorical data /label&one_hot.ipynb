{
 "cells": [
  {
   "cell_type": "code",
   "execution_count": 12,
   "metadata": {},
   "outputs": [
    {
     "name": "stdout",
     "output_type": "stream",
     "text": [
      "Original Data: ['male', 'female', 'male', 'other']\n",
      "Encoded Data: [1 0 1 2]\n"
     ]
    }
   ],
   "source": [
    "#example for label encoding using sklearn\n",
    "from sklearn.preprocessing import LabelEncoder\n",
    "\n",
    "# here i take Sample data\n",
    "data = ['male', 'female', 'male', 'other']\n",
    "\n",
    "\n",
    "encoder = LabelEncoder()‹\n",
    "encoded = encoder.fit_transform(data)\n",
    "\n",
    "print(\"Original Data:\", data)\n",
    "print(\"Encoded Data:\", encoded)\n"
   ]
  },
  {
   "cell_type": "code",
   "execution_count": 14,
   "metadata": {},
   "outputs": [
    {
     "name": "stdout",
     "output_type": "stream",
     "text": [
      "   Country_India  Country_Nepal  Country_USA\n",
      "0          False           True        False\n",
      "1           True          False        False\n",
      "2          False          False         True\n",
      "3          False           True        False\n"
     ]
    }
   ],
   "source": [
    "## Example for one-hot encoding using pandas\n",
    "import pandas as pd\n",
    "\n",
    "df = pd.DataFrame({'Country': ['Nepal', 'India', 'USA', 'Nepal']})\n",
    "encoded = pd.get_dummies(df, columns=['Country'])\n",
    "print(encoded)\n"
   ]
  }
 ],
 "metadata": {
  "kernelspec": {
   "display_name": "Python 3",
   "language": "python",
   "name": "python3"
  },
  "language_info": {
   "codemirror_mode": {
    "name": "ipython",
    "version": 3
   },
   "file_extension": ".py",
   "mimetype": "text/x-python",
   "name": "python",
   "nbconvert_exporter": "python",
   "pygments_lexer": "ipython3",
   "version": "3.12.6"
  }
 },
 "nbformat": 4,
 "nbformat_minor": 2
}
