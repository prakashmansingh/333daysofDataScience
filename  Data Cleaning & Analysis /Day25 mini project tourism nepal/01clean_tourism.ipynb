{
 "cells": [
  {
   "cell_type": "markdown",
   "id": "470b2937",
   "metadata": {},
   "source": [
    "# Cleaning Nepal’s Tourism Data "
   ]
  },
  {
   "cell_type": "code",
   "execution_count": 2,
   "id": "e4fa50f0",
   "metadata": {},
   "outputs": [
    {
     "data": {
      "text/html": [
       "<div>\n",
       "<style scoped>\n",
       "    .dataframe tbody tr th:only-of-type {\n",
       "        vertical-align: middle;\n",
       "    }\n",
       "\n",
       "    .dataframe tbody tr th {\n",
       "        vertical-align: top;\n",
       "    }\n",
       "\n",
       "    .dataframe thead th {\n",
       "        text-align: right;\n",
       "    }\n",
       "</style>\n",
       "<table border=\"1\" class=\"dataframe\">\n",
       "  <thead>\n",
       "    <tr style=\"text-align: right;\">\n",
       "      <th></th>\n",
       "      <th>month</th>\n",
       "      <th>country</th>\n",
       "      <th>arrivals</th>\n",
       "    </tr>\n",
       "  </thead>\n",
       "  <tbody>\n",
       "    <tr>\n",
       "      <th>0</th>\n",
       "      <td>2023-01-01</td>\n",
       "      <td>India</td>\n",
       "      <td>13685.0</td>\n",
       "    </tr>\n",
       "    <tr>\n",
       "      <th>1</th>\n",
       "      <td>2023-01-01</td>\n",
       "      <td>China</td>\n",
       "      <td>7043.0</td>\n",
       "    </tr>\n",
       "    <tr>\n",
       "      <th>2</th>\n",
       "      <td>2023-01-01</td>\n",
       "      <td>USA</td>\n",
       "      <td>6349.0</td>\n",
       "    </tr>\n",
       "    <tr>\n",
       "      <th>3</th>\n",
       "      <td>2023-01-01</td>\n",
       "      <td>UK</td>\n",
       "      <td>4013.0</td>\n",
       "    </tr>\n",
       "    <tr>\n",
       "      <th>4</th>\n",
       "      <td>2023-01-01</td>\n",
       "      <td>Bhutan</td>\n",
       "      <td>2457.0</td>\n",
       "    </tr>\n",
       "  </tbody>\n",
       "</table>\n",
       "</div>"
      ],
      "text/plain": [
       "       month country  arrivals\n",
       "0 2023-01-01   India   13685.0\n",
       "1 2023-01-01   China    7043.0\n",
       "2 2023-01-01     USA    6349.0\n",
       "3 2023-01-01      UK    4013.0\n",
       "4 2023-01-01  Bhutan    2457.0"
      ]
     },
     "execution_count": 2,
     "metadata": {},
     "output_type": "execute_result"
    }
   ],
   "source": [
    "import pandas as pd\n",
    "import matplotlib.pyplot as plt\n",
    "from sklearn.preprocessing import OneHotEncoder, StandardScaler, MinMaxScaler\n",
    "df = pd.read_csv('tourism_raw.csv', parse_dates=['month'])\n",
    "regions = pd.read_csv('tourist_region.csv')\n",
    "df.head()"
   ]
  },
  {
   "cell_type": "markdown",
   "id": "fe1d9502",
   "metadata": {},
   "source": [
    "## Handle Missing Values"
   ]
  },
  {
   "cell_type": "code",
   "execution_count": 3,
   "id": "c53a8e0a",
   "metadata": {},
   "outputs": [
    {
     "data": {
      "text/plain": [
       "month       0\n",
       "country     0\n",
       "arrivals    1\n",
       "dtype: int64"
      ]
     },
     "execution_count": 3,
     "metadata": {},
     "output_type": "execute_result"
    }
   ],
   "source": [
    "df = df.sort_values(['country', 'month'])\n",
    "df['arrivals'] = df.groupby('country')['arrivals'].transform(lambda s: s.interpolate(limit_direction='both'))\n",
    "df['arrivals'] = df['arrivals'].fillna(df.groupby('country')['arrivals'].transform('median'))\n",
    "df.isna().sum()\n"
   ]
  },
  {
   "cell_type": "markdown",
   "id": "f712fa5c",
   "metadata": {},
   "source": [
    "## Remove Duplicates"
   ]
  },
  {
   "cell_type": "code",
   "execution_count": 4,
   "id": "08a60d12",
   "metadata": {},
   "outputs": [
    {
     "data": {
      "text/plain": [
       "month       0\n",
       "country     0\n",
       "arrivals    0\n",
       "dtype: int64"
      ]
     },
     "execution_count": 4,
     "metadata": {},
     "output_type": "execute_result"
    }
   ],
   "source": [
    "df = df.sort_values(['country', 'month'])\n",
    "df['arrivals'] = df.groupby('country')['arrivals'].transform(lambda s: s.interpolate(limit_direction='both'))\n",
    "df['arrivals'] = df['arrivals'].fillna(df.groupby('country')['arrivals'].transform('median'))\n",
    "Q1 = df['arrivals'].quantile(0.25)\n",
    "Q3 = df['arrivals'].quantile(0.75)\n",
    "IQR = Q3 - Q1\n",
    "lower = Q1 - 1.5 * IQR\n",
    "upper = Q3 + 1.5 * IQR\n",
    "df = df[(df['arrivals'] >= lower) & (df['arrivals'] <= upper)]\n",
    "df.isna().sum()"
   ]
  },
  {
   "cell_type": "markdown",
   "id": "28a22e0b",
   "metadata": {},
   "source": [
    "## Detect & Cap Outliers"
   ]
  },
  {
   "cell_type": "code",
   "execution_count": 5,
   "id": "7fcb71b4",
   "metadata": {},
   "outputs": [
    {
     "name": "stderr",
     "output_type": "stream",
     "text": [
      "/var/folders/k9/0ymr366x2c5c2hpzhnpzt0100000gn/T/ipykernel_9957/1869895742.py:6: DeprecationWarning: DataFrameGroupBy.apply operated on the grouping columns. This behavior is deprecated, and in a future version of pandas the grouping columns will be excluded from the operation. Either pass `include_groups=False` to exclude the groupings or explicitly select the grouping columns after groupby to silence this warning.\n",
      "  df = df.groupby('country', group_keys=False).apply(winsorize)\n"
     ]
    },
    {
     "data": {
      "text/html": [
       "<div>\n",
       "<style scoped>\n",
       "    .dataframe tbody tr th:only-of-type {\n",
       "        vertical-align: middle;\n",
       "    }\n",
       "\n",
       "    .dataframe tbody tr th {\n",
       "        vertical-align: top;\n",
       "    }\n",
       "\n",
       "    .dataframe thead th {\n",
       "        text-align: right;\n",
       "    }\n",
       "</style>\n",
       "<table border=\"1\" class=\"dataframe\">\n",
       "  <thead>\n",
       "    <tr style=\"text-align: right;\">\n",
       "      <th></th>\n",
       "      <th>month</th>\n",
       "      <th>arrivals</th>\n",
       "    </tr>\n",
       "  </thead>\n",
       "  <tbody>\n",
       "    <tr>\n",
       "      <th>count</th>\n",
       "      <td>171</td>\n",
       "      <td>171.000000</td>\n",
       "    </tr>\n",
       "    <tr>\n",
       "      <th>mean</th>\n",
       "      <td>2023-12-14 22:27:22.105263104</td>\n",
       "      <td>5294.850877</td>\n",
       "    </tr>\n",
       "    <tr>\n",
       "      <th>min</th>\n",
       "      <td>2023-01-01 00:00:00</td>\n",
       "      <td>1888.000000</td>\n",
       "    </tr>\n",
       "    <tr>\n",
       "      <th>25%</th>\n",
       "      <td>2023-07-01 00:00:00</td>\n",
       "      <td>3254.500000</td>\n",
       "    </tr>\n",
       "    <tr>\n",
       "      <th>50%</th>\n",
       "      <td>2023-12-01 00:00:00</td>\n",
       "      <td>4431.000000</td>\n",
       "    </tr>\n",
       "    <tr>\n",
       "      <th>75%</th>\n",
       "      <td>2024-06-01 00:00:00</td>\n",
       "      <td>6334.000000</td>\n",
       "    </tr>\n",
       "    <tr>\n",
       "      <th>max</th>\n",
       "      <td>2024-12-01 00:00:00</td>\n",
       "      <td>15829.000000</td>\n",
       "    </tr>\n",
       "    <tr>\n",
       "      <th>std</th>\n",
       "      <td>NaN</td>\n",
       "      <td>2918.113453</td>\n",
       "    </tr>\n",
       "  </tbody>\n",
       "</table>\n",
       "</div>"
      ],
      "text/plain": [
       "                               month      arrivals\n",
       "count                            171    171.000000\n",
       "mean   2023-12-14 22:27:22.105263104   5294.850877\n",
       "min              2023-01-01 00:00:00   1888.000000\n",
       "25%              2023-07-01 00:00:00   3254.500000\n",
       "50%              2023-12-01 00:00:00   4431.000000\n",
       "75%              2024-06-01 00:00:00   6334.000000\n",
       "max              2024-12-01 00:00:00  15829.000000\n",
       "std                              NaN   2918.113453"
      ]
     },
     "execution_count": 5,
     "metadata": {},
     "output_type": "execute_result"
    }
   ],
   "source": [
    "def winsorize(group):\n",
    " q1, q3 = group['arrivals'].quantile([0.25,0.75])\n",
    " iqr = q3-q1; low=q1-1.5*iqr; high=q3+1.5*iqr\n",
    " group['arrivals']=group['arrivals'].clip(low, high)\n",
    " return group\n",
    "df = df.groupby('country', group_keys=False).apply(winsorize)\n",
    "df.describe()"
   ]
  },
  {
   "cell_type": "markdown",
   "id": "b8ccad58",
   "metadata": {},
   "source": [
    "## Merge with Region Lookup"
   ]
  },
  {
   "cell_type": "code",
   "execution_count": 6,
   "id": "ca79fc32",
   "metadata": {},
   "outputs": [
    {
     "data": {
      "text/html": [
       "<div>\n",
       "<style scoped>\n",
       "    .dataframe tbody tr th:only-of-type {\n",
       "        vertical-align: middle;\n",
       "    }\n",
       "\n",
       "    .dataframe tbody tr th {\n",
       "        vertical-align: top;\n",
       "    }\n",
       "\n",
       "    .dataframe thead th {\n",
       "        text-align: right;\n",
       "    }\n",
       "</style>\n",
       "<table border=\"1\" class=\"dataframe\">\n",
       "  <thead>\n",
       "    <tr style=\"text-align: right;\">\n",
       "      <th></th>\n",
       "      <th>month</th>\n",
       "      <th>country</th>\n",
       "      <th>arrivals</th>\n",
       "      <th>region</th>\n",
       "    </tr>\n",
       "  </thead>\n",
       "  <tbody>\n",
       "    <tr>\n",
       "      <th>0</th>\n",
       "      <td>2023-01-01</td>\n",
       "      <td>Australia</td>\n",
       "      <td>2633.0</td>\n",
       "      <td>Oceania</td>\n",
       "    </tr>\n",
       "    <tr>\n",
       "      <th>1</th>\n",
       "      <td>2023-02-01</td>\n",
       "      <td>Australia</td>\n",
       "      <td>3426.0</td>\n",
       "      <td>Oceania</td>\n",
       "    </tr>\n",
       "    <tr>\n",
       "      <th>2</th>\n",
       "      <td>2023-03-01</td>\n",
       "      <td>Australia</td>\n",
       "      <td>4219.0</td>\n",
       "      <td>Oceania</td>\n",
       "    </tr>\n",
       "    <tr>\n",
       "      <th>3</th>\n",
       "      <td>2023-04-01</td>\n",
       "      <td>Australia</td>\n",
       "      <td>3523.0</td>\n",
       "      <td>Oceania</td>\n",
       "    </tr>\n",
       "    <tr>\n",
       "      <th>4</th>\n",
       "      <td>2023-05-01</td>\n",
       "      <td>Australia</td>\n",
       "      <td>4019.0</td>\n",
       "      <td>Oceania</td>\n",
       "    </tr>\n",
       "  </tbody>\n",
       "</table>\n",
       "</div>"
      ],
      "text/plain": [
       "       month    country  arrivals   region\n",
       "0 2023-01-01  Australia    2633.0  Oceania\n",
       "1 2023-02-01  Australia    3426.0  Oceania\n",
       "2 2023-03-01  Australia    4219.0  Oceania\n",
       "3 2023-04-01  Australia    3523.0  Oceania\n",
       "4 2023-05-01  Australia    4019.0  Oceania"
      ]
     },
     "execution_count": 6,
     "metadata": {},
     "output_type": "execute_result"
    }
   ],
   "source": [
    "regions = regions.rename(columns={'country_clean': 'country'})\n",
    "df = df.merge(regions, on='country', how='left')\n",
    "df.head()"
   ]
  },
  {
   "cell_type": "markdown",
   "id": "86331d1c",
   "metadata": {},
   "source": [
    "## One-Hot Encoding & Scaling"
   ]
  },
  {
   "cell_type": "code",
   "execution_count": 7,
   "id": "25fc78bd",
   "metadata": {},
   "outputs": [
    {
     "data": {
      "text/html": [
       "<div>\n",
       "<style scoped>\n",
       "    .dataframe tbody tr th:only-of-type {\n",
       "        vertical-align: middle;\n",
       "    }\n",
       "\n",
       "    .dataframe tbody tr th {\n",
       "        vertical-align: top;\n",
       "    }\n",
       "\n",
       "    .dataframe thead th {\n",
       "        text-align: right;\n",
       "    }\n",
       "</style>\n",
       "<table border=\"1\" class=\"dataframe\">\n",
       "  <thead>\n",
       "    <tr style=\"text-align: right;\">\n",
       "      <th></th>\n",
       "      <th>month</th>\n",
       "      <th>country</th>\n",
       "      <th>arrivals</th>\n",
       "      <th>region</th>\n",
       "      <th>East Asia</th>\n",
       "      <th>Europe</th>\n",
       "      <th>North America</th>\n",
       "      <th>Oceania</th>\n",
       "      <th>South Asia</th>\n",
       "      <th>NaN</th>\n",
       "      <th>arrivals_std</th>\n",
       "      <th>arrivals_mm</th>\n",
       "    </tr>\n",
       "  </thead>\n",
       "  <tbody>\n",
       "    <tr>\n",
       "      <th>0</th>\n",
       "      <td>2023-01-01</td>\n",
       "      <td>Australia</td>\n",
       "      <td>2633.0</td>\n",
       "      <td>Oceania</td>\n",
       "      <td>0.0</td>\n",
       "      <td>0.0</td>\n",
       "      <td>0.0</td>\n",
       "      <td>1.0</td>\n",
       "      <td>0.0</td>\n",
       "      <td>0.0</td>\n",
       "      <td>-0.914861</td>\n",
       "      <td>0.053439</td>\n",
       "    </tr>\n",
       "    <tr>\n",
       "      <th>1</th>\n",
       "      <td>2023-02-01</td>\n",
       "      <td>Australia</td>\n",
       "      <td>3426.0</td>\n",
       "      <td>Oceania</td>\n",
       "      <td>0.0</td>\n",
       "      <td>0.0</td>\n",
       "      <td>0.0</td>\n",
       "      <td>1.0</td>\n",
       "      <td>0.0</td>\n",
       "      <td>0.0</td>\n",
       "      <td>-0.642312</td>\n",
       "      <td>0.110322</td>\n",
       "    </tr>\n",
       "    <tr>\n",
       "      <th>2</th>\n",
       "      <td>2023-03-01</td>\n",
       "      <td>Australia</td>\n",
       "      <td>4219.0</td>\n",
       "      <td>Oceania</td>\n",
       "      <td>0.0</td>\n",
       "      <td>0.0</td>\n",
       "      <td>0.0</td>\n",
       "      <td>1.0</td>\n",
       "      <td>0.0</td>\n",
       "      <td>0.0</td>\n",
       "      <td>-0.369763</td>\n",
       "      <td>0.167205</td>\n",
       "    </tr>\n",
       "    <tr>\n",
       "      <th>3</th>\n",
       "      <td>2023-04-01</td>\n",
       "      <td>Australia</td>\n",
       "      <td>3523.0</td>\n",
       "      <td>Oceania</td>\n",
       "      <td>0.0</td>\n",
       "      <td>0.0</td>\n",
       "      <td>0.0</td>\n",
       "      <td>1.0</td>\n",
       "      <td>0.0</td>\n",
       "      <td>0.0</td>\n",
       "      <td>-0.608974</td>\n",
       "      <td>0.117280</td>\n",
       "    </tr>\n",
       "    <tr>\n",
       "      <th>4</th>\n",
       "      <td>2023-05-01</td>\n",
       "      <td>Australia</td>\n",
       "      <td>4019.0</td>\n",
       "      <td>Oceania</td>\n",
       "      <td>0.0</td>\n",
       "      <td>0.0</td>\n",
       "      <td>0.0</td>\n",
       "      <td>1.0</td>\n",
       "      <td>0.0</td>\n",
       "      <td>0.0</td>\n",
       "      <td>-0.438502</td>\n",
       "      <td>0.152858</td>\n",
       "    </tr>\n",
       "  </tbody>\n",
       "</table>\n",
       "</div>"
      ],
      "text/plain": [
       "       month    country  arrivals   region  East Asia  Europe  North America  \\\n",
       "0 2023-01-01  Australia    2633.0  Oceania        0.0     0.0            0.0   \n",
       "1 2023-02-01  Australia    3426.0  Oceania        0.0     0.0            0.0   \n",
       "2 2023-03-01  Australia    4219.0  Oceania        0.0     0.0            0.0   \n",
       "3 2023-04-01  Australia    3523.0  Oceania        0.0     0.0            0.0   \n",
       "4 2023-05-01  Australia    4019.0  Oceania        0.0     0.0            0.0   \n",
       "\n",
       "   Oceania  South Asia  NaN  arrivals_std  arrivals_mm  \n",
       "0      1.0         0.0  0.0     -0.914861     0.053439  \n",
       "1      1.0         0.0  0.0     -0.642312     0.110322  \n",
       "2      1.0         0.0  0.0     -0.369763     0.167205  \n",
       "3      1.0         0.0  0.0     -0.608974     0.117280  \n",
       "4      1.0         0.0  0.0     -0.438502     0.152858  "
      ]
     },
     "execution_count": 7,
     "metadata": {},
     "output_type": "execute_result"
    }
   ],
   "source": [
    "ohe = OneHotEncoder(sparse_output=False)\n",
    "ohe_df = pd.DataFrame(\n",
    "    ohe.fit_transform(df[['region']]),\n",
    "    columns=ohe.categories_[0],\n",
    "    index=df.index\n",
    ")\n",
    "df = pd.concat([df, ohe_df], axis=1)\n",
    "sc = StandardScaler()\n",
    "mm = MinMaxScaler()\n",
    "df['arrivals_std'] = sc.fit_transform(df[['arrivals']])\n",
    "df['arrivals_mm'] = mm.fit_transform(df[['arrivals']])\n",
    "df.head()"
   ]
  },
  {
   "cell_type": "markdown",
   "id": "58c8cd57",
   "metadata": {},
   "source": [
    "## Visualization"
   ]
  },
  {
   "cell_type": "code",
   "execution_count": 8,
   "id": "15fa3038",
   "metadata": {},
   "outputs": [
    {
     "data": {
      "image/png": "[encoded data removed]",
      "text/plain": [
       "<Figure size 640x480 with 1 Axes>"
      ]
     },
     "metadata": {},
     "output_type": "display_data"
    }
   ],
   "source": [
    "df.groupby('month')['arrivals'].sum().plot(title='Monthly Tourist Arrivals')\n",
    "plt.show()"
   ]
  }
 ],
 "metadata": {
  "kernelspec": {
   "display_name": "Python 3",
   "language": "python",
   "name": "python3"
  },
  "language_info": {
   "codemirror_mode": {
    "name": "ipython",
    "version": 3
   },
   "file_extension": ".py",
   "mimetype": "text/x-python",
   "name": "python",
   "nbconvert_exporter": "python",
   "pygments_lexer": "ipython3",
   "version": "3.12.6"
  }
 },
 "nbformat": 4,
 "nbformat_minor": 5
}
